{
 "cells": [
  {
   "cell_type": "code",
   "execution_count": 30,
   "id": "fbbda08e-2732-4f94-90f7-ee050b81266c",
   "metadata": {},
   "outputs": [
    {
     "name": "stdout",
     "output_type": "stream",
     "text": [
      "1\n",
      "2\n",
      "34\n"
     ]
    }
   ],
   "source": [
    "#converting all the values to integer value \n",
    "x=int(1)\n",
    "y=int(2.8)\n",
    "z=int(\"34\")\n",
    "print(x)\n",
    "print(y)\n",
    "print(z)\n",
    "\n"
   ]
  },
  {
   "cell_type": "code",
   "execution_count": 9,
   "id": "136f4c9e-cfc5-46de-b2b8-582fe25e2600",
   "metadata": {},
   "outputs": [
    {
     "name": "stdout",
     "output_type": "stream",
     "text": [
      "1.0\n",
      "0.0\n",
      "45.0\n"
     ]
    }
   ],
   "source": [
    "#converting all the values to float value \n",
    "x=float(1)\n",
    "print(x)\n",
    "y=float(.0)\n",
    "print(y)\n",
    "z=float(\"45\")\n",
    "print(z)"
   ]
  },
  {
   "cell_type": "code",
   "execution_count": 11,
   "id": "226e7d27-c890-4c02-a0c3-9bdb2f75a0a0",
   "metadata": {},
   "outputs": [
    {
     "name": "stdout",
     "output_type": "stream",
     "text": [
      "56.0\n",
      "45\n"
     ]
    }
   ],
   "source": [
    "#converting values in string \n",
    "x=str(56.0)\n",
    "print(x)\n",
    "y=str(\"45\")\n",
    "print(y)\n"
   ]
  },
  {
   "cell_type": "code",
   "execution_count": 13,
   "id": "c00f104a-21f0-4bc0-b722-914712dad5bd",
   "metadata": {},
   "outputs": [
    {
     "name": "stdout",
     "output_type": "stream",
     "text": [
      "2\n",
      "2.727272727272727\n",
      "8\n"
     ]
    }
   ],
   "source": [
    "#using division, modulous,floor division\n",
    "x=30\n",
    "y=11\n",
    "print(x//y)\n",
    "print(x/y)\n",
    "print(x%y)"
   ]
  },
  {
   "cell_type": "code",
   "execution_count": 1,
   "id": "3959da40-797d-4f32-b853-cee8b554c6fb",
   "metadata": {},
   "outputs": [
    {
     "name": "stdout",
     "output_type": "stream",
     "text": [
      "(12, 23, 45, 78)\n"
     ]
    }
   ],
   "source": [
    "#creating a tuple \n",
    "t1=(12,23,45,78)\n",
    "print(t1)\n"
   ]
  },
  {
   "cell_type": "code",
   "execution_count": 7,
   "id": "ca153b39-c1b6-4e95-b0d6-e3d62111e479",
   "metadata": {},
   "outputs": [
    {
     "data": {
      "text/plain": [
       "tuple"
      ]
     },
     "execution_count": 7,
     "metadata": {},
     "output_type": "execute_result"
    }
   ],
   "source": [
    "#checking the tuple type \n",
    "t2=(\"abc\",\"def\",\"ghi\")\n",
    "type(t2)"
   ]
  },
  {
   "cell_type": "code",
   "execution_count": 2,
   "id": "3b696602-99f5-4c14-bfd4-e9bc1b34cafd",
   "metadata": {},
   "outputs": [
    {
     "data": {
      "text/plain": [
       "(12, 23, 45, 678)"
      ]
     },
     "execution_count": 2,
     "metadata": {},
     "output_type": "execute_result"
    }
   ],
   "source": [
    "#Accesing tuples items\n",
    "t1=(12,23,45,678,56,35)\n",
    "t1[:4]"
   ]
  },
  {
   "cell_type": "code",
   "execution_count": 3,
   "id": "365e7810-94a0-49e1-924e-c36136d087b6",
   "metadata": {},
   "outputs": [
    {
     "data": {
      "text/plain": [
       "(678, 56, 35)"
      ]
     },
     "execution_count": 3,
     "metadata": {},
     "output_type": "execute_result"
    }
   ],
   "source": [
    "\n",
    "t1[3:6]"
   ]
  },
  {
   "cell_type": "code",
   "execution_count": 4,
   "id": "d4573a98-7c1f-4fb2-a575-69a2fdb7163d",
   "metadata": {},
   "outputs": [
    {
     "data": {
      "text/plain": [
       "(678, 56)"
      ]
     },
     "execution_count": 4,
     "metadata": {},
     "output_type": "execute_result"
    }
   ],
   "source": [
    "t1[-3:-1]"
   ]
  },
  {
   "cell_type": "code",
   "execution_count": null,
   "id": "0dd4b9d8-9f49-4c58-b10e-ad14a0f8294b",
   "metadata": {},
   "outputs": [
    {
     "name": "stdout",
     "output_type": "stream",
     "text": [
      "<class 'tuple'>\n",
      "<class 'str'>\n"
     ]
    }
   ],
   "source": [
    "#for creating a single tuple a comma should  be used \n",
    "t2=(\"apple\",)\n",
    "#without comma it will be string\n",
    "t3=(\"apple\")\n",
    "print(type(t2))\n",
    "print(type(t3))"
   ]
  },
  {
   "cell_type": "code",
   "execution_count": 1,
   "id": "ad25bedd-6734-4d07-944a-511234a0e200",
   "metadata": {},
   "outputs": [
    {
     "name": "stdout",
     "output_type": "stream",
     "text": [
      "helloworld\n"
     ]
    }
   ],
   "source": [
    "a=\"hello\"\n",
    "b=\"world\"\n",
    "c=a+b \n",
    "print(c)\n"
   ]
  },
  {
   "cell_type": "code",
   "execution_count": 1,
   "id": "85740af0",
   "metadata": {},
   "outputs": [
    {
     "name": "stdout",
     "output_type": "stream",
     "text": [
      "heloo world my age is 32\n"
     ]
    }
   ],
   "source": [
    "#using fstring \n",
    "age=32\n",
    "txt=f\"heloo world my age is {age}\"\n",
    "print(txt)"
   ]
  },
  {
   "cell_type": "code",
   "execution_count": 13,
   "id": "c8bcce15",
   "metadata": {},
   "outputs": [
    {
     "name": "stdout",
     "output_type": "stream",
     "text": [
      "this is worth 344.4577,is it good\n"
     ]
    }
   ],
   "source": [
    "price=344.4577\n",
    "txt=f\"this is worth {price:.4f},is it good\"\n",
    "print(txt)\n",
    "\n"
   ]
  },
  {
   "cell_type": "code",
   "execution_count": 19,
   "id": "3eda993b",
   "metadata": {},
   "outputs": [
    {
     "name": "stdout",
     "output_type": "stream",
     "text": [
      "my product of these twoo are 1935\n"
     ]
    }
   ],
   "source": [
    "txt=f\"my product of these twoo are {43*45}\"\n",
    "print(txt)"
   ]
  },
  {
   "cell_type": "code",
   "execution_count": 1,
   "id": "9cb0bcf8",
   "metadata": {},
   "outputs": [
    {
     "name": "stdout",
     "output_type": "stream",
     "text": [
      "Mera naam mogly hai mai jamun khata hu\n"
     ]
    }
   ],
   "source": [
    "txt=(\"mera naam mogly hai mai jamun khata hu\")\n",
    "x=txt.capitalize()\n",
    "print(x)\n"
   ]
  },
  {
   "cell_type": "code",
   "execution_count": 2,
   "id": "62bb70fd",
   "metadata": {},
   "outputs": [
    {
     "name": "stdout",
     "output_type": "stream",
     "text": [
      "Juice Pila Do\n"
     ]
    }
   ],
   "source": [
    "rj=\"juice pila do\"\n",
    "x=rj.title()\n",
    "print(x)"
   ]
  },
  {
   "cell_type": "code",
   "execution_count": 4,
   "id": "3b78bc6f",
   "metadata": {},
   "outputs": [
    {
     "name": "stdout",
     "output_type": "stream",
     "text": [
      "2\n"
     ]
    }
   ],
   "source": [
    "#string count\n",
    "txt=\"i love apples,apple are good to health \"\n",
    "word= txt.count(\"apple\")\n",
    "print(word)\n",
    "     "
   ]
  },
  {
   "cell_type": "code",
   "execution_count": 5,
   "id": "62bf7aef-dc2d-4f89-b555-63e5af42eb4b",
   "metadata": {},
   "outputs": [
    {
     "name": "stdout",
     "output_type": "stream",
     "text": [
      "1\n"
     ]
    }
   ],
   "source": [
    "#string count using index \n",
    "txt=\"i love apples,apple are good to health \"\n",
    "word= txt.count(\"apple\",10,24)\n",
    "print(word)"
   ]
  },
  {
   "cell_type": "code",
   "execution_count": 17,
   "id": "19c40cd1-4548-47fc-a0f9-ce7a69d474e4",
   "metadata": {},
   "outputs": [
    {
     "name": "stdout",
     "output_type": "stream",
     "text": [
      "6\n",
      "ending index 12\n"
     ]
    }
   ],
   "source": [
    "txt=\"hello,welcome to my world\"\n",
    "s=txt.find('welcome')\n",
    "print(s)\n",
    "d=len(\"welcome\")\n",
    "result=s+d-1\n",
    "print(\"ending index\",result)"
   ]
  },
  {
   "cell_type": "code",
   "execution_count": 18,
   "id": "ffe9da7a-c0f1-4941-8330-e58faac48d2f",
   "metadata": {},
   "outputs": [
    {
     "name": "stdout",
     "output_type": "stream",
     "text": [
      "-1\n"
     ]
    }
   ],
   "source": [
    "txt=\"hello,welcome to my world\"\n",
    "s=txt.find('bhai')\n",
    "print(s)"
   ]
  },
  {
   "cell_type": "code",
   "execution_count": 22,
   "id": "9a220b4e-18bc-4af5-a52f-939a3962894a",
   "metadata": {},
   "outputs": [
    {
     "name": "stdout",
     "output_type": "stream",
     "text": [
      "1\n"
     ]
    }
   ],
   "source": [
    "txt=\"hello,welcome to my world\"\n",
    "s=txt.index('e')\n",
    "print(s)"
   ]
  },
  {
   "cell_type": "code",
   "execution_count": 24,
   "id": "ae1d584f-5fe4-4c64-a97a-8811ba4910a2",
   "metadata": {},
   "outputs": [
    {
     "name": "stdout",
     "output_type": "stream",
     "text": [
      "1\n",
      "1\n"
     ]
    }
   ],
   "source": [
    "txt=\"hello,welcome to my world\"\n",
    "s=txt.index('e')\n",
    "d=txt.find(\"e\")\n",
    "print(d)\n",
    "print(s)"
   ]
  },
  {
   "cell_type": "code",
   "execution_count": 27,
   "id": "23bd41a8-338d-4ca7-9875-30f72a0d9033",
   "metadata": {},
   "outputs": [
    {
     "name": "stdout",
     "output_type": "stream",
     "text": [
      "raghav ajay bhavika\n"
     ]
    }
   ],
   "source": [
    "mytuple=(\"raghav\",\"ajay\",\"bhavika\")\n",
    "x=\" \".join(mytuple)\n",
    "print(x)"
   ]
  },
  {
   "cell_type": "code",
   "execution_count": 29,
   "id": "a2cb53e8-023f-4207-9ece-694a53198f0b",
   "metadata": {},
   "outputs": [
    {
     "name": "stdout",
     "output_type": "stream",
     "text": [
      "('i love to eat ', 'banana', ' all the day')\n"
     ]
    }
   ],
   "source": [
    "txt=\"i love to eat banana all the day\"\n",
    "x = txt.partition(\"banana\")\n",
    "print(x)"
   ]
  },
  {
   "cell_type": "code",
   "execution_count": 34,
   "id": "76de58dc-82f1-4c26-8faa-f2c01f0b0dfa",
   "metadata": {},
   "outputs": [
    {
     "name": "stdout",
     "output_type": "stream",
     "text": [
      "('i love to ', 'eat', ' banana all the day')\n"
     ]
    }
   ],
   "source": [
    "txt=\"i love to eat banana all the day\"\n",
    "x = txt.partition(\"eat\")\n",
    "print(x)"
   ]
  },
  {
   "cell_type": "code",
   "execution_count": 36,
   "id": "14823763-c2ad-4fa9-a649-a09ec6b0b35e",
   "metadata": {},
   "outputs": [
    {
     "name": "stdout",
     "output_type": "stream",
     "text": [
      "['i', 'love', 'to', 'eat', 'banana', 'all', 'the', 'day']\n"
     ]
    }
   ],
   "source": [
    "txt=\"i love to eat banana all the day\"\n",
    "x = txt.split()\n",
    "print(x)"
   ]
  },
  {
   "cell_type": "code",
   "execution_count": 39,
   "id": "89023918-abb3-404b-8f47-c94545e9d9cc",
   "metadata": {},
   "outputs": [
    {
     "name": "stdout",
     "output_type": "stream",
     "text": [
      "['hello', 'welcome to my world', 'THIS THE WORLD OF IMAGICA']\n"
     ]
    }
   ],
   "source": [
    "txt=\"hello,welcome to my world,THIS THE WORLD OF IMAGICA\"\n",
    "s=txt.split(\",\")\n",
    "print(s)"
   ]
  },
  {
   "cell_type": "code",
   "execution_count": 44,
   "id": "7d55f5ae-c33e-4cb3-bd9c-0e97ec59aa24",
   "metadata": {},
   "outputs": [
    {
     "name": "stdout",
     "output_type": "stream",
     "text": [
      "raghav#ajay#bhavika\n",
      "['raghav', 'ajay', 'bhavika']\n"
     ]
    },
    {
     "data": {
      "text/plain": [
       "list"
      ]
     },
     "execution_count": 44,
     "metadata": {},
     "output_type": "execute_result"
    }
   ],
   "source": [
    "mytuple=(\"raghav\",\"ajay\",\"bhavika\")\n",
    "x=\"#\".join(mytuple)\n",
    "print(x)\n",
    "D=x.split(\"#\")\n",
    "print(D)\n",
    "type(D)\n"
   ]
  },
  {
   "cell_type": "code",
   "execution_count": 51,
   "id": "7a647f50-0b2c-4809-8f77-b2390cc40d84",
   "metadata": {},
   "outputs": [
    {
     "name": "stdout",
     "output_type": "stream",
     "text": [
      "0000000banana0000000\n"
     ]
    }
   ],
   "source": [
    "txt=\"banana\"\n",
    "x=txt.center(20,\"0\")\n",
    "print(x)"
   ]
  },
  {
   "cell_type": "code",
   "execution_count": null,
   "id": "25df9fb3-b3ba-40d2-8d9e-b8046d0f0048",
   "metadata": {},
   "outputs": [],
   "source": []
  }
 ],
 "metadata": {
  "kernelspec": {
   "display_name": "Python 3 (ipykernel)",
   "language": "python",
   "name": "python3"
  },
  "language_info": {
   "codemirror_mode": {
    "name": "ipython",
    "version": 3
   },
   "file_extension": ".py",
   "mimetype": "text/x-python",
   "name": "python",
   "nbconvert_exporter": "python",
   "pygments_lexer": "ipython3",
   "version": "3.12.4"
  }
 },
 "nbformat": 4,
 "nbformat_minor": 5
}
